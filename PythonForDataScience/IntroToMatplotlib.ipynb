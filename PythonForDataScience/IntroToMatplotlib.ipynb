{
 "cells": [
  {
   "cell_type": "markdown",
   "metadata": {},
   "source": [
    "# <center>Introduction to matplotlib</center>\n",
    "\n",
    "<img src=https://i.pinimg.com/736x/0a/2c/eb/0a2cebebd96272931f245cb45576f6aa--teacher-memes-math-teacher.jpg height=400 width=400>"
   ]
  },
  {
   "cell_type": "markdown",
   "metadata": {},
   "source": [
    "![](https://matplotlib.org/_static/logo2.svg)\n",
    "\n",
    ">Matplotlib is a Python 2D plotting library which produces publication quality figures in a variety of hardcopy formats and interactive environments across platforms. Matplotlib can be used in Python scripts, the Python and IPython shell, the jupyter notebook, web application servers, and four graphical user interface toolkits."
   ]
  },
  {
   "cell_type": "markdown",
   "metadata": {},
   "source": [
    "## Installation\n",
    "\n",
    "```\n",
    "pip install matplotlib\n",
    "```"
   ]
  },
  {
   "cell_type": "markdown",
   "metadata": {},
   "source": [
    "## Example 1\n",
    "\n",
    "Plot a simple line."
   ]
  },
  {
   "cell_type": "markdown",
   "metadata": {},
   "source": [
    "- Take a graph paper! (import matplotlib)"
   ]
  },
  {
   "cell_type": "code",
   "execution_count": null,
   "metadata": {},
   "outputs": [],
   "source": [
    "%matplotlib inline\n",
    "import matplotlib.pyplot as plt"
   ]
  },
  {
   "cell_type": "markdown",
   "metadata": {},
   "source": [
    "- Specify data to plot\n",
    "\n",
    "| x || 1 | 2 | 3 |\n",
    "\n",
    "| y || 2 | 4 | 1 |"
   ]
  },
  {
   "cell_type": "code",
   "execution_count": null,
   "metadata": {},
   "outputs": [],
   "source": [
    "x = [1,2,3]\n",
    "y = [2,4,1]"
   ]
  },
  {
   "cell_type": "code",
   "execution_count": null,
   "metadata": {},
   "outputs": [],
   "source": [
    "# Specify X and Y axis labels\n",
    "plt.xlabel('x - axis')\n",
    "plt.ylabel('y - axis')\n",
    "# Give title to your graph!\n",
    "plt.title('My first graph!')\n",
    "# Plot points on graph paper!\n",
    "plt.plot(x,y)\n",
    "# Show the plot\n",
    "plt.show()\n",
    "# Close the plot\n",
    "plt.close()"
   ]
  },
  {
   "cell_type": "markdown",
   "metadata": {},
   "source": [
    "## Example 2\n",
    "\n",
    "Plot 2 lines on same plot"
   ]
  },
  {
   "cell_type": "code",
   "execution_count": null,
   "metadata": {},
   "outputs": [],
   "source": [
    "# line 1 points\n",
    "x1 = [1,2,3]\n",
    "y1 = [2,4,1]\n",
    "\n",
    "# line 2 points\n",
    "x2 = [1,2,3]\n",
    "y2 = [4,1,3]"
   ]
  },
  {
   "cell_type": "code",
   "execution_count": null,
   "metadata": {},
   "outputs": [],
   "source": [
    "# plotting the line 1 points \n",
    "plt.plot(x1, y1, label = \"line 1\")\n",
    "\n",
    "# plotting the line 2 points \n",
    "plt.plot(x2, y2, label = \"line 2\")\n",
    "\n",
    "plt.xlabel('x - axis')\n",
    "plt.ylabel('y - axis')\n",
    "\n",
    "plt.title('Two lines on same graph!')\n",
    "\n",
    "# show labels for different lines in a legend\n",
    "plt.legend()\n",
    "\n",
    "plt.show()\n",
    "\n",
    "plt.close()"
   ]
  },
  {
   "cell_type": "markdown",
   "metadata": {},
   "source": [
    "## Example 3\n",
    "\n",
    "Customizing line plot."
   ]
  },
  {
   "cell_type": "code",
   "execution_count": null,
   "metadata": {},
   "outputs": [],
   "source": [
    "plt.style.available"
   ]
  },
  {
   "cell_type": "code",
   "execution_count": null,
   "metadata": {},
   "outputs": [],
   "source": [
    "plt.style.use('fivethirtyeight')"
   ]
  },
  {
   "cell_type": "code",
   "execution_count": null,
   "metadata": {},
   "outputs": [],
   "source": [
    "x = [2,2,3,4,5,6]\n",
    "y = [2,4,3,5,2,6]"
   ]
  },
  {
   "cell_type": "code",
   "execution_count": null,
   "metadata": {},
   "outputs": [],
   "source": [
    "plt.plot(x, y, color='green', linestyle='dashed', linewidth = 3,\n",
    "         marker='o', markerfacecolor='blue', markersize=8)\n",
    "\n",
    "# setting x and y axis range\n",
    "plt.ylim(1,8)\n",
    "plt.xlim(1,8)\n",
    "\n",
    "plt.xlabel('x - axis')\n",
    "plt.ylabel('y - axis')\n",
    "\n",
    "plt.show()\n",
    "plt.close()"
   ]
  },
  {
   "cell_type": "markdown",
   "metadata": {},
   "source": [
    "## Example 4\n",
    "\n",
    "Plotting bar chart."
   ]
  },
  {
   "cell_type": "code",
   "execution_count": null,
   "metadata": {},
   "outputs": [],
   "source": [
    "# x-coordinates of left sides of bars \n",
    "left = [1, 2, 3, 4, 5]"
   ]
  },
  {
   "cell_type": "code",
   "execution_count": null,
   "metadata": {},
   "outputs": [],
   "source": [
    "# heights of bars\n",
    "height = [10, 24, 36, 40, 5]"
   ]
  },
  {
   "cell_type": "code",
   "execution_count": null,
   "metadata": {},
   "outputs": [],
   "source": [
    "# labels for bars\n",
    "tick_label = ['one', 'two', 'three', 'four', 'five']"
   ]
  },
  {
   "cell_type": "code",
   "execution_count": null,
   "metadata": {},
   "outputs": [],
   "source": [
    "# plotting a bar chart\n",
    "plt.bar(left, height, tick_label = tick_label,\n",
    "        width = 0.8, color = ['red', 'blue'])\n",
    "\n",
    "plt.xlabel('x - axis')\n",
    "plt.ylabel('y - axis')\n",
    "\n",
    "plt.title('My bar chart!')\n",
    "\n",
    "plt.show()\n",
    "plt.close()"
   ]
  },
  {
   "cell_type": "markdown",
   "metadata": {},
   "source": [
    "## Example 5\n",
    "\n",
    "Plot histogram."
   ]
  },
  {
   "cell_type": "code",
   "execution_count": null,
   "metadata": {},
   "outputs": [],
   "source": [
    "ages = [2,5,70,40,30,45,50,45,43,40,44,\n",
    "        60,7,13,57,18,90,77,32,21,20,40]"
   ]
  },
  {
   "cell_type": "code",
   "execution_count": null,
   "metadata": {},
   "outputs": [],
   "source": [
    "# setting the ranges and no. of intervals\n",
    "range = (0, 100)\n",
    "bins = 10 "
   ]
  },
  {
   "cell_type": "code",
   "execution_count": null,
   "metadata": {},
   "outputs": [],
   "source": [
    "# plotting a histogram\n",
    "plt.hist(ages, bins, range, color = 'red',\n",
    "        histtype = 'bar', rwidth = 0.8)\n",
    "\n",
    "plt.xlabel('age')\n",
    "plt.ylabel('No. of people')\n",
    "\n",
    "plt.title('My histogram')\n",
    "\n",
    "plt.show()\n",
    "plt.close()"
   ]
  },
  {
   "cell_type": "markdown",
   "metadata": {},
   "source": [
    "## Example 6\n",
    "\n",
    "Plotting scatter plot."
   ]
  },
  {
   "cell_type": "code",
   "execution_count": null,
   "metadata": {},
   "outputs": [],
   "source": [
    "x = [1,2,3,4,5,6,7,8,9,10]\n",
    "y = [2,4,5,7,6,8,9,11,12,12]"
   ]
  },
  {
   "cell_type": "code",
   "execution_count": null,
   "metadata": {},
   "outputs": [],
   "source": [
    "# plotting points as a scatter plot\n",
    "plt.scatter(x, y, label= \"stars\", color= \"m\", \n",
    "            marker= \"*\", s=30)\n",
    "\n",
    "plt.xlabel('x - axis')\n",
    "plt.ylabel('y- axis')\n",
    "\n",
    "plt.title('My scatter plot!')\n",
    "\n",
    "plt.legend()\n",
    "\n",
    "plt.show()\n",
    "plt.close()"
   ]
  },
  {
   "cell_type": "markdown",
   "metadata": {},
   "source": [
    "## Example 7\n",
    "\n",
    "Plotting pie-chart."
   ]
  },
  {
   "cell_type": "code",
   "execution_count": null,
   "metadata": {},
   "outputs": [],
   "source": [
    "# defining labels\n",
    "activities = ['eat', 'sleep', 'work', 'play']"
   ]
  },
  {
   "cell_type": "code",
   "execution_count": null,
   "metadata": {},
   "outputs": [],
   "source": [
    "# portion covered by each label\n",
    "slices = [3, 7, 8, 6]"
   ]
  },
  {
   "cell_type": "code",
   "execution_count": null,
   "metadata": {},
   "outputs": [],
   "source": [
    "# color for each label\n",
    "colors = ['r', 'm', 'g', 'b']"
   ]
  },
  {
   "cell_type": "code",
   "execution_count": null,
   "metadata": {},
   "outputs": [],
   "source": [
    "# plotting the pie chart\n",
    "plt.pie(slices, labels = activities, colors=colors, \n",
    "        startangle=90, shadow = True, explode = (0, 0, 0.1, 0),\n",
    "        radius = 1.2, autopct = '%1.1f%%')\n",
    "\n",
    "plt.legend()\n",
    "\n",
    "plt.show()\n",
    "plt.close()"
   ]
  },
  {
   "cell_type": "markdown",
   "metadata": {},
   "source": [
    "## Example 8\n",
    "\n",
    "Plotting curves of given equation"
   ]
  },
  {
   "cell_type": "code",
   "execution_count": null,
   "metadata": {},
   "outputs": [],
   "source": [
    "import numpy as np"
   ]
  },
  {
   "cell_type": "code",
   "execution_count": null,
   "metadata": {},
   "outputs": [],
   "source": [
    "x = np.arange(0, 2*(np.pi), 0.1)\n",
    "y = np.sin(x)"
   ]
  },
  {
   "cell_type": "code",
   "execution_count": null,
   "metadata": {},
   "outputs": [],
   "source": [
    "plt.plot(x, y)\n",
    "\n",
    "plt.show()\n",
    "plt.close()"
   ]
  },
  {
   "cell_type": "markdown",
   "metadata": {},
   "source": [
    "## Subplots\n",
    "\n",
    "Subplots are required when we want to show two or more plots in same figure. We can do it in two ways using two slightly different methods.\n",
    "\n",
    "## Example 9\n",
    "\n",
    "Plotting subplots using method 1"
   ]
  },
  {
   "cell_type": "code",
   "execution_count": null,
   "metadata": {},
   "outputs": [],
   "source": [
    "# function to generate coordinates\n",
    "def create_plot(ptype):\n",
    "    # setting the x-axis vaues\n",
    "    x = np.arange(-10, 10, 0.01)\n",
    "     \n",
    "    # setting the y-axis values\n",
    "    if ptype == 'linear':\n",
    "        y = x\n",
    "    elif ptype == 'quadratic':\n",
    "        y = x**2\n",
    "    elif ptype == 'cubic':\n",
    "        y = x**3\n",
    "    elif ptype == 'quartic':\n",
    "        y = x**4\n",
    "             \n",
    "    return(x, y)"
   ]
  },
  {
   "cell_type": "markdown",
   "metadata": {},
   "source": [
    "Figure acts as a top level container for all plot elements."
   ]
  },
  {
   "cell_type": "markdown",
   "metadata": {},
   "source": [
    "![](https://indianpythonista.files.wordpress.com/2016/12/sub1.png)"
   ]
  },
  {
   "cell_type": "code",
   "execution_count": null,
   "metadata": {},
   "outputs": [],
   "source": [
    "# create a figure\n",
    "fig = plt.figure()\n",
    "\n",
    "# define subplots and their positions in figure\n",
    "plt1 = fig.add_subplot(221)\n",
    "plt2 = fig.add_subplot(222)\n",
    "plt3 = fig.add_subplot(223)\n",
    "plt4 = fig.add_subplot(224)\n",
    "\n",
    "# plotting points on each subplot\n",
    "x, y = create_plot('linear')\n",
    "plt1.plot(x, y, color ='r')\n",
    "plt1.set_title('$y_1 = x$')\n",
    " \n",
    "x, y = create_plot('quadratic')\n",
    "plt2.plot(x, y, color ='b')\n",
    "plt2.set_title('$y_2 = x^2$')\n",
    " \n",
    "x, y = create_plot('cubic')\n",
    "plt3.plot(x, y, color ='g')\n",
    "plt3.set_title('$y_3 = x^3$')\n",
    " \n",
    "x, y = create_plot('quartic')\n",
    "plt4.plot(x, y, color ='k')\n",
    "plt4.set_title('$y_4 = x^4$')\n",
    "\n",
    "# adjusting space between subplots\n",
    "fig.subplots_adjust(hspace=.5,wspace=0.5)\n",
    "\n",
    "plt.show()\n",
    "plt.close()"
   ]
  },
  {
   "cell_type": "markdown",
   "metadata": {},
   "source": [
    "## Example 10\n",
    "\n",
    "Plotting subplots using method 2."
   ]
  },
  {
   "cell_type": "code",
   "execution_count": null,
   "metadata": {},
   "outputs": [],
   "source": [
    "# function to generate coordinates\n",
    "def create_plot(ptype):\n",
    "    # setting the x-axis vaues\n",
    "    x = np.arange(0, 5, 0.01)\n",
    "     \n",
    "    # setting y-axis values\n",
    "    if ptype == 'sin':\n",
    "        # a sine wave\n",
    "        y = np.sin(2*np.pi*x)\n",
    "    elif ptype == 'exp':\n",
    "        # negative exponential function\n",
    "        y = np.exp(-x)\n",
    "    elif ptype == 'hybrid':\n",
    "        # a damped sine wave\n",
    "        y = (np.sin(2*np.pi*x))*(np.exp(-x))\n",
    "             \n",
    "    return(x, y)"
   ]
  },
  {
   "cell_type": "code",
   "execution_count": null,
   "metadata": {},
   "outputs": [],
   "source": [
    "# defining subplots and their positions\n",
    "plt1 = plt.subplot2grid((11,1), (0,0), rowspan = 3, colspan = 1)\n",
    "plt2 = plt.subplot2grid((11,1), (4,0), rowspan = 3, colspan = 1)\n",
    "plt3 = plt.subplot2grid((11,1), (8,0), rowspan = 3, colspan = 1)\n",
    "\n",
    "# plotting points on each subplot\n",
    "x, y = create_plot('sin')\n",
    "plt1.plot(x, y, label = 'sine wave', color ='b')\n",
    "x, y = create_plot('exp')\n",
    "plt2.plot(x, y, label = 'negative exponential', color = 'r')\n",
    "x, y = create_plot('hybrid')\n",
    "plt3.plot(x, y, label = 'damped sine wave', color = 'g')\n",
    "\n",
    "# show legends of each subplot\n",
    "plt1.legend()\n",
    "plt2.legend()\n",
    "plt3.legend()\n",
    "\n",
    "plt.show()\n",
    "plt.close()"
   ]
  },
  {
   "cell_type": "markdown",
   "metadata": {},
   "source": [
    "subplot2grid is similar to “pyplot.subplot” but uses 0-based indexing and let subplot to occupy multiple cells.\n",
    "Let us try to understand the arguments of the subplot2grid method:\n",
    "1. argument 1 : geometry of the grid\n",
    "2. argument 2: location of the subplot in the grid\n",
    "3. argument 3: (rowspan) No. of rows covered by subplot.\n",
    "4. argument 4: (colspan) No. of columns covered by subplot.\n",
    "\n",
    "This figure will make this concept more clear:\n",
    "\n",
    "![](https://indianpythonista.files.wordpress.com/2016/12/sub4.png)"
   ]
  },
  {
   "cell_type": "markdown",
   "metadata": {},
   "source": [
    ">After going through the above two examples, we can infer that one should use subplot() method when the plots are of uniform size where as subplot2grid() method should be preferred when we want more flexibility on position and sizes of our subplots."
   ]
  },
  {
   "cell_type": "markdown",
   "metadata": {},
   "source": [
    "![](https://pics.me.me/heres-a-graph-of-my-life-thus-far-16329422.png)"
   ]
  },
  {
   "cell_type": "markdown",
   "metadata": {},
   "source": [
    "### Resources\n",
    "\n",
    "- https://indianpythonista.wordpress.com/2016/12/21/matplotlib-tutorial-series-part-1/\n",
    "\n",
    "- https://indianpythonista.wordpress.com/2016/12/21/matplotlib-tutorial-series-part-2/\n",
    "\n",
    "- https://indianpythonista.wordpress.com/2016/12/21/matplotlib-tutorial-series-part-3/\n",
    "\n",
    "- https://indianpythonista.wordpress.com/2017/01/18/matplotlib-tutorial-series-part-4/\n",
    "\n",
    "### Other data visualization libraries\n",
    "\n",
    "- [seaborn](https://seaborn.pydata.org/)\n",
    "\n",
    "- [plotly](https://plot.ly/)\n",
    "\n",
    "- [bokeh](https://bokeh.pydata.org/en/latest/)"
   ]
  }
 ],
 "metadata": {
  "kernelspec": {
   "display_name": "Python 3",
   "language": "python",
   "name": "python3"
  },
  "language_info": {
   "codemirror_mode": {
    "name": "ipython",
    "version": 3
   },
   "file_extension": ".py",
   "mimetype": "text/x-python",
   "name": "python",
   "nbconvert_exporter": "python",
   "pygments_lexer": "ipython3",
   "version": "3.6.5"
  }
 },
 "nbformat": 4,
 "nbformat_minor": 2
}
