{
 "cells": [
  {
   "cell_type": "markdown",
   "metadata": {},
   "source": [
    "![](images/congrats.jpg)\n",
    "\n",
    "## *You have just completed a basic python course and a plethora of opportunities is waiting for you ! *"
   ]
  },
  {
   "cell_type": "markdown",
   "metadata": {},
   "source": [
    "# What to study next???\n",
    "\n",
    "- If you wanna learn everything in detail\n",
    "\n",
    "    [Learn Python the hard way](https://learnpythonthehardway.org/)\n",
    "    \n",
    "    \n",
    "- If you wanna build some interesting stuff with Python\n",
    "\n",
    "    [Automate the boring stuff with Python](https://automatetheboringstuff.com/)\n",
    "\n",
    "\n",
    "- If you want to learn anything and everything about Python through videos\n",
    "\n",
    "    [sentdex](https://www.youtube.com/sentdex)\n",
    "\n",
    "\n",
    "- Some intersting stuff here too ;)\n",
    "\n",
    "    [Indian Pythonista (YouTube)](https://www.youtube.com/IndianPythonista)\n",
    "    \n",
    "    [Indian Pythonnista (Blog)](https://indianpythonista.wordpress.com)\n",
    "    \n",
    "    \n",
    "- Interested in Data Science? DataCamp provides a free course for that\n",
    "    \n",
    "    [Learn Python for Data Science](https://www.datacamp.com/courses/intro-to-python-for-data-science)\n",
    "    \n",
    "    \n",
    "**Note:** This list is based on my personal opinion only. Don't hesitate from trying any other good resources! "
   ]
  },
  {
   "cell_type": "markdown",
   "metadata": {},
   "source": [
    "# Contact me\n",
    "\n",
    "- Mail me at: nikhilksingh97@gmail.com\n",
    "\n",
    "- Ping me on FB: [Nikhil Kumar](https://fb.me/nikhilksingh97)"
   ]
  }
 ],
 "metadata": {
  "kernelspec": {
   "display_name": "Python 3",
   "language": "python",
   "name": "python3"
  },
  "language_info": {
   "codemirror_mode": {
    "name": "ipython",
    "version": 3
   },
   "file_extension": ".py",
   "mimetype": "text/x-python",
   "name": "python",
   "nbconvert_exporter": "python",
   "pygments_lexer": "ipython3",
   "version": "3.6.3"
  }
 },
 "nbformat": 4,
 "nbformat_minor": 2
}
